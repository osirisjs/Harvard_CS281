{
 "cells": [
  {
   "cell_type": "code",
   "execution_count": 1,
   "metadata": {},
   "outputs": [],
   "source": [
    "!pip install -qU plotly torch colorlover\n",
    "!rm -fr start; git clone --single-branch -b demos2018 -q https://github.com/harvard-ml-courses/cs281-demos start; cp -f start/cs281.py cs281.py\n",
    "    "
   ]
  },
  {
   "cell_type": "code",
   "execution_count": 28,
   "metadata": {},
   "outputs": [
    {
     "data": {
      "text/html": [
       "\n",
       "        <script src=\"/static/components/requirejs/require.js\"></script>\n",
       "        <script>\n",
       "          requirejs.config({\n",
       "            paths: {\n",
       "              base: '/static/base',\n",
       "              plotly: 'https://cdn.plot.ly/plotly-latest.min.js?noext',\n",
       "            },\n",
       "          });\n",
       "        </script>\n",
       "        "
      ],
      "text/plain": [
       "<IPython.core.display.HTML object>"
      ]
     },
     "metadata": {},
     "output_type": "display_data"
    }
   ],
   "source": [
    "import torch \n",
    "import numpy as np\n",
    "from plotly.offline import iplot \n",
    "import plotly.graph_objs as go\n",
    "import cs281\n",
    "import colorlover as cl\n",
    "bupu = cl.scales['9']['seq']['BuPu']"
   ]
  },
  {
   "cell_type": "code",
   "execution_count": 7,
   "metadata": {},
   "outputs": [
    {
     "data": {
      "text/html": [
       "\n",
       "        <script src=\"/static/components/requirejs/require.js\"></script>\n",
       "        <script>\n",
       "          requirejs.config({\n",
       "            paths: {\n",
       "              base: '/static/base',\n",
       "              plotly: 'https://cdn.plot.ly/plotly-latest.min.js?noext',\n",
       "            },\n",
       "          });\n",
       "        </script>\n",
       "        "
      ],
      "text/plain": [
       "<IPython.core.display.HTML object>"
      ]
     },
     "metadata": {},
     "output_type": "display_data"
    },
    {
     "data": {
      "text/plain": [
       "(tensor([1.5000, 2.0000]), torch.Size([2]))"
      ]
     },
     "execution_count": 7,
     "metadata": {},
     "output_type": "execute_result"
    }
   ],
   "source": [
    "x = torch.tensor([1.5,2])\n",
    "x, x.shape"
   ]
  },
  {
   "cell_type": "code",
   "execution_count": 11,
   "metadata": {},
   "outputs": [
    {
     "data": {
      "text/html": [
       "\n",
       "        <script src=\"/static/components/requirejs/require.js\"></script>\n",
       "        <script>\n",
       "          requirejs.config({\n",
       "            paths: {\n",
       "              base: '/static/base',\n",
       "              plotly: 'https://cdn.plot.ly/plotly-latest.min.js?noext',\n",
       "            },\n",
       "          });\n",
       "        </script>\n",
       "        "
      ],
      "text/plain": [
       "<IPython.core.display.HTML object>"
      ]
     },
     "metadata": {},
     "output_type": "display_data"
    },
    {
     "name": "stdout",
     "output_type": "stream",
     "text": [
      "tensor([[0.0000, 2.0000],\n",
      "        [0.5000, 5.0000]])\n",
      "torch.Size([2, 2])\n"
     ]
    },
    {
     "data": {
      "text/plain": [
       "array([[0. , 2. ],\n",
       "       [0.5, 5. ]], dtype=float32)"
      ]
     },
     "execution_count": 11,
     "metadata": {},
     "output_type": "execute_result"
    }
   ],
   "source": [
    "W = torch.tensor([[0,2],[0.5,5]])\n",
    "print(W)\n",
    "print(W.shape)\n",
    "W.numpy()"
   ]
  },
  {
   "cell_type": "code",
   "execution_count": 17,
   "metadata": {},
   "outputs": [
    {
     "data": {
      "text/html": [
       "\n",
       "        <script src=\"/static/components/requirejs/require.js\"></script>\n",
       "        <script>\n",
       "          requirejs.config({\n",
       "            paths: {\n",
       "              base: '/static/base',\n",
       "              plotly: 'https://cdn.plot.ly/plotly-latest.min.js?noext',\n",
       "            },\n",
       "          });\n",
       "        </script>\n",
       "        "
      ],
      "text/plain": [
       "<IPython.core.display.HTML object>"
      ]
     },
     "metadata": {},
     "output_type": "display_data"
    },
    {
     "name": "stdout",
     "output_type": "stream",
     "text": [
      "tensor([2.5000, 3.0000])\n",
      "tensor([2.5000, 3.0000])\n",
      "x is still tensor([1.5000, 2.0000])\n"
     ]
    }
   ],
   "source": [
    "print(x+1)\n",
    "print(x.add(1))\n",
    "print(\"x is still {}.\".format(x))\n"
   ]
  },
  {
   "cell_type": "code",
   "execution_count": 18,
   "metadata": {},
   "outputs": [
    {
     "data": {
      "text/html": [
       "\n",
       "        <script src=\"/static/components/requirejs/require.js\"></script>\n",
       "        <script>\n",
       "          requirejs.config({\n",
       "            paths: {\n",
       "              base: '/static/base',\n",
       "              plotly: 'https://cdn.plot.ly/plotly-latest.min.js?noext',\n",
       "            },\n",
       "          });\n",
       "        </script>\n",
       "        "
      ],
      "text/plain": [
       "<IPython.core.display.HTML object>"
      ]
     },
     "metadata": {},
     "output_type": "display_data"
    },
    {
     "name": "stdout",
     "output_type": "stream",
     "text": [
      "x is now tensor([2.5000, 3.0000]).\n"
     ]
    }
   ],
   "source": [
    "# In-place ops (can be useful but be careful) \n",
    "x.add_(1)\n",
    "print(\"x is now {}.\".format(x))\n"
   ]
  },
  {
   "cell_type": "code",
   "execution_count": 19,
   "metadata": {},
   "outputs": [
    {
     "data": {
      "text/html": [
       "\n",
       "        <script src=\"/static/components/requirejs/require.js\"></script>\n",
       "        <script>\n",
       "          requirejs.config({\n",
       "            paths: {\n",
       "              base: '/static/base',\n",
       "              plotly: 'https://cdn.plot.ly/plotly-latest.min.js?noext',\n",
       "            },\n",
       "          });\n",
       "        </script>\n",
       "        "
      ],
      "text/plain": [
       "<IPython.core.display.HTML object>"
      ]
     },
     "metadata": {},
     "output_type": "display_data"
    },
    {
     "name": "stdout",
     "output_type": "stream",
     "text": [
      "torch.Size([2])\n"
     ]
    }
   ],
   "source": [
    "print(x.shape)"
   ]
  },
  {
   "cell_type": "code",
   "execution_count": 21,
   "metadata": {},
   "outputs": [
    {
     "data": {
      "text/html": [
       "\n",
       "        <script src=\"/static/components/requirejs/require.js\"></script>\n",
       "        <script>\n",
       "          requirejs.config({\n",
       "            paths: {\n",
       "              base: '/static/base',\n",
       "              plotly: 'https://cdn.plot.ly/plotly-latest.min.js?noext',\n",
       "            },\n",
       "          });\n",
       "        </script>\n",
       "        "
      ],
      "text/plain": [
       "<IPython.core.display.HTML object>"
      ]
     },
     "metadata": {},
     "output_type": "display_data"
    },
    {
     "name": "stdout",
     "output_type": "stream",
     "text": [
      "torch.Size([2, 1])\n"
     ]
    }
   ],
   "source": [
    "print(x.view(2,1).shape)"
   ]
  },
  {
   "cell_type": "code",
   "execution_count": 22,
   "metadata": {},
   "outputs": [
    {
     "data": {
      "text/html": [
       "\n",
       "        <script src=\"/static/components/requirejs/require.js\"></script>\n",
       "        <script>\n",
       "          requirejs.config({\n",
       "            paths: {\n",
       "              base: '/static/base',\n",
       "              plotly: 'https://cdn.plot.ly/plotly-latest.min.js?noext',\n",
       "            },\n",
       "          });\n",
       "        </script>\n",
       "        "
      ],
      "text/plain": [
       "<IPython.core.display.HTML object>"
      ]
     },
     "metadata": {},
     "output_type": "display_data"
    },
    {
     "data": {
      "text/plain": [
       "tensor([ 6.0000, 16.2500])"
      ]
     },
     "execution_count": 22,
     "metadata": {},
     "output_type": "execute_result"
    }
   ],
   "source": [
    "# Matrix multiplication\n",
    "W@x"
   ]
  },
  {
   "cell_type": "code",
   "execution_count": 23,
   "metadata": {},
   "outputs": [
    {
     "data": {
      "text/html": [
       "\n",
       "        <script src=\"/static/components/requirejs/require.js\"></script>\n",
       "        <script>\n",
       "          requirejs.config({\n",
       "            paths: {\n",
       "              base: '/static/base',\n",
       "              plotly: 'https://cdn.plot.ly/plotly-latest.min.js?noext',\n",
       "            },\n",
       "          });\n",
       "        </script>\n",
       "        "
      ],
      "text/plain": [
       "<IPython.core.display.HTML object>"
      ]
     },
     "metadata": {},
     "output_type": "display_data"
    },
    {
     "data": {
      "text/plain": [
       "tensor([[ 6.0000],\n",
       "        [16.2500]])"
      ]
     },
     "execution_count": 23,
     "metadata": {},
     "output_type": "execute_result"
    }
   ],
   "source": [
    "W@x.unsqueeze(1)"
   ]
  },
  {
   "cell_type": "code",
   "execution_count": 31,
   "metadata": {},
   "outputs": [
    {
     "data": {
      "text/html": [
       "\n",
       "        <script src=\"/static/components/requirejs/require.js\"></script>\n",
       "        <script>\n",
       "          requirejs.config({\n",
       "            paths: {\n",
       "              base: '/static/base',\n",
       "              plotly: 'https://cdn.plot.ly/plotly-latest.min.js?noext',\n",
       "            },\n",
       "          });\n",
       "        </script>\n",
       "        "
      ],
      "text/plain": [
       "<IPython.core.display.HTML object>"
      ]
     },
     "metadata": {},
     "output_type": "display_data"
    }
   ],
   "source": [
    "numpy_tensor = W.numpy()\n",
    "torch_tensor = torch.tensor(np.array([[0,2.],[0.5,5]]))"
   ]
  },
  {
   "cell_type": "code",
   "execution_count": 32,
   "metadata": {},
   "outputs": [
    {
     "data": {
      "text/html": [
       "\n",
       "        <script src=\"/static/components/requirejs/require.js\"></script>\n",
       "        <script>\n",
       "          requirejs.config({\n",
       "            paths: {\n",
       "              base: '/static/base',\n",
       "              plotly: 'https://cdn.plot.ly/plotly-latest.min.js?noext',\n",
       "            },\n",
       "          });\n",
       "        </script>\n",
       "        "
      ],
      "text/plain": [
       "<IPython.core.display.HTML object>"
      ]
     },
     "metadata": {},
     "output_type": "display_data"
    },
    {
     "data": {
      "text/plain": [
       "array([[0. , 2. ],\n",
       "       [0.5, 5. ]], dtype=float32)"
      ]
     },
     "execution_count": 32,
     "metadata": {},
     "output_type": "execute_result"
    }
   ],
   "source": [
    "numpy_tensor"
   ]
  },
  {
   "cell_type": "code",
   "execution_count": 33,
   "metadata": {},
   "outputs": [
    {
     "data": {
      "text/html": [
       "\n",
       "        <script src=\"/static/components/requirejs/require.js\"></script>\n",
       "        <script>\n",
       "          requirejs.config({\n",
       "            paths: {\n",
       "              base: '/static/base',\n",
       "              plotly: 'https://cdn.plot.ly/plotly-latest.min.js?noext',\n",
       "            },\n",
       "          });\n",
       "        </script>\n",
       "        "
      ],
      "text/plain": [
       "<IPython.core.display.HTML object>"
      ]
     },
     "metadata": {},
     "output_type": "display_data"
    },
    {
     "data": {
      "text/plain": [
       "tensor([[0.0000, 2.0000],\n",
       "        [0.5000, 5.0000]], dtype=torch.float64)"
      ]
     },
     "execution_count": 33,
     "metadata": {},
     "output_type": "execute_result"
    }
   ],
   "source": [
    "torch_tensor"
   ]
  },
  {
   "cell_type": "code",
   "execution_count": 34,
   "metadata": {},
   "outputs": [
    {
     "data": {
      "text/html": [
       "\n",
       "        <script src=\"/static/components/requirejs/require.js\"></script>\n",
       "        <script>\n",
       "          requirejs.config({\n",
       "            paths: {\n",
       "              base: '/static/base',\n",
       "              plotly: 'https://cdn.plot.ly/plotly-latest.min.js?noext',\n",
       "            },\n",
       "          });\n",
       "        </script>\n",
       "        "
      ],
      "text/plain": [
       "<IPython.core.display.HTML object>"
      ]
     },
     "metadata": {},
     "output_type": "display_data"
    },
    {
     "name": "stdout",
     "output_type": "stream",
     "text": [
      "tensor([[0.0000, 2.0000],\n",
      "        [0.5000, 5.0000]]) tensor([2.5000, 3.0000])\n"
     ]
    },
    {
     "data": {
      "text/plain": [
       "tensor([[2.5000, 5.0000],\n",
       "        [3.0000, 8.0000]])"
      ]
     },
     "execution_count": 34,
     "metadata": {},
     "output_type": "execute_result"
    }
   ],
   "source": [
    "# Broadcasting. (be careful about this, but very useful)\n",
    "print(W, x)\n",
    "W + x "
   ]
  },
  {
   "cell_type": "code",
   "execution_count": 37,
   "metadata": {},
   "outputs": [
    {
     "data": {
      "text/html": [
       "\n",
       "        <script src=\"/static/components/requirejs/require.js\"></script>\n",
       "        <script>\n",
       "          requirejs.config({\n",
       "            paths: {\n",
       "              base: '/static/base',\n",
       "              plotly: 'https://cdn.plot.ly/plotly-latest.min.js?noext',\n",
       "            },\n",
       "          });\n",
       "        </script>\n",
       "        "
      ],
      "text/plain": [
       "<IPython.core.display.HTML object>"
      ]
     },
     "metadata": {},
     "output_type": "display_data"
    },
    {
     "data": {
      "text/plain": [
       "tensor([[2.5000, 4.5000],\n",
       "        [3.5000, 8.0000]])"
      ]
     },
     "execution_count": 37,
     "metadata": {},
     "output_type": "execute_result"
    }
   ],
   "source": [
    "W+x.unsqueeze(1)"
   ]
  },
  {
   "cell_type": "markdown",
   "metadata": {},
   "source": [
    "### The main reason we will use PyTorch is because it automatically computes derivatives. Here we consider a simple function $$f(x) = x^2 + 10$$ "
   ]
  },
  {
   "cell_type": "code",
   "execution_count": 45,
   "metadata": {},
   "outputs": [
    {
     "data": {
      "text/html": [
       "\n",
       "        <script src=\"/static/components/requirejs/require.js\"></script>\n",
       "        <script>\n",
       "          requirejs.config({\n",
       "            paths: {\n",
       "              base: '/static/base',\n",
       "              plotly: 'https://cdn.plot.ly/plotly-latest.min.js?noext',\n",
       "            },\n",
       "          });\n",
       "        </script>\n",
       "        "
      ],
      "text/plain": [
       "<IPython.core.display.HTML object>"
      ]
     },
     "metadata": {},
     "output_type": "display_data"
    }
   ],
   "source": [
    "def plot(x,y, color = None):\n",
    "    \"A simple plotting function, you can also use matplotlib.\"\n",
    "    return [go.Scatter(dict(x = x.detach().numpy(),\n",
    "                            y = y.detach().numpy(),\n",
    "                            marker = dict(color=color)))]"
   ]
  },
  {
   "cell_type": "code",
   "execution_count": 48,
   "metadata": {},
   "outputs": [
    {
     "data": {
      "text/html": [
       "\n",
       "        <script src=\"/static/components/requirejs/require.js\"></script>\n",
       "        <script>\n",
       "          requirejs.config({\n",
       "            paths: {\n",
       "              base: '/static/base',\n",
       "              plotly: 'https://cdn.plot.ly/plotly-latest.min.js?noext',\n",
       "            },\n",
       "          });\n",
       "        </script>\n",
       "        "
      ],
      "text/plain": [
       "<IPython.core.display.HTML object>"
      ]
     },
     "metadata": {},
     "output_type": "display_data"
    }
   ],
   "source": [
    "# Create an arbitrary function over tensors. \n",
    "def fn(x):\n",
    "    return x*x+10\n",
    "\n",
    "x = torch.linspace(0,10,100)\n",
    "y = fn(x)\n",
    "\n"
   ]
  },
  {
   "cell_type": "code",
   "execution_count": 50,
   "metadata": {},
   "outputs": [
    {
     "data": {
      "text/html": [
       "\n",
       "        <script src=\"/static/components/requirejs/require.js\"></script>\n",
       "        <script>\n",
       "          requirejs.config({\n",
       "            paths: {\n",
       "              base: '/static/base',\n",
       "              plotly: 'https://cdn.plot.ly/plotly-latest.min.js?noext',\n",
       "            },\n",
       "          });\n",
       "        </script>\n",
       "        "
      ],
      "text/plain": [
       "<IPython.core.display.HTML object>"
      ]
     },
     "metadata": {},
     "output_type": "display_data"
    },
    {
     "data": {
      "application/vnd.plotly.v1+json": {
       "config": {
        "linkText": "Export to plot.ly",
        "plotlyServerURL": "https://plot.ly",
        "showLink": true
       },
       "data": [
        {
         "type": "scatter",
         "uid": "419e3d5d-f5ef-4752-8d9d-8298f4a05dd1",
         "x": [
          0,
          0.10101009905338287,
          0.20202019810676575,
          0.3030303120613098,
          0.4040403962135315,
          0.5050504803657532,
          0.6060606241226196,
          0.7070707082748413,
          0.808080792427063,
          0.9090908765792847,
          1.0101009607315063,
          1.111111044883728,
          1.2121212482452393,
          1.313131332397461,
          1.4141414165496826,
          1.5151515007019043,
          1.616161584854126,
          1.7171716690063477,
          1.8181817531585693,
          1.919191837310791,
          2.0202019214630127,
          2.1212120056152344,
          2.222222089767456,
          2.3232321739196777,
          2.4242424964904785,
          2.5252525806427,
          2.626262664794922,
          2.7272727489471436,
          2.8282828330993652,
          2.929292917251587,
          3.0303030014038086,
          3.1313130855560303,
          3.232323169708252,
          3.3333332538604736,
          3.4343433380126953,
          3.535353422164917,
          3.6363635063171387,
          3.7373735904693604,
          3.838383674621582,
          3.9393937587738037,
          4.040403842926025,
          4.141414165496826,
          4.242424011230469,
          4.3434343338012695,
          4.444444179534912,
          4.545454502105713,
          4.6464643478393555,
          4.747474670410156,
          4.848484992980957,
          4.9494948387146,
          5.0505051612854,
          5.151515007019043,
          5.252525329589844,
          5.353535175323486,
          5.454545497894287,
          5.55555534362793,
          5.6565656661987305,
          5.757575511932373,
          5.858585834503174,
          5.959595680236816,
          6.060606002807617,
          6.16161584854126,
          6.2626261711120605,
          6.363636016845703,
          6.464646339416504,
          6.565656661987305,
          6.666666507720947,
          6.767676830291748,
          6.868686676025391,
          6.969696998596191,
          7.070706844329834,
          7.171717166900635,
          7.272727012634277,
          7.373737335205078,
          7.474747180938721,
          7.5757575035095215,
          7.676767349243164,
          7.777777671813965,
          7.878787517547607,
          7.979797840118408,
          8.08080768585205,
          8.181818008422852,
          8.282828330993652,
          8.383838653564453,
          8.484848022460938,
          8.585858345031738,
          8.686868667602539,
          8.78787899017334,
          8.888888359069824,
          8.989898681640625,
          9.090909004211426,
          9.191919326782227,
          9.292928695678711,
          9.393939018249512,
          9.494949340820312,
          9.595959663391113,
          9.696969985961914,
          9.797979354858398,
          9.8989896774292,
          10
         ],
         "y": [
          10,
          10.01020336151123,
          10.040812492370605,
          10.091827392578125,
          10.163249015808105,
          10.25507640838623,
          10.3673095703125,
          10.499948501586914,
          10.652994155883789,
          10.826446533203125,
          11.020303726196289,
          11.234567642211914,
          11.46923828125,
          11.724313735961914,
          11.999795913696289,
          12.295683860778809,
          12.611978530883789,
          12.948678970336914,
          13.305785179138184,
          13.683297157287598,
          14.081215858459473,
          14.499540328979492,
          14.938270568847656,
          15.397407531738281,
          15.876951217651367,
          16.37689971923828,
          16.897254943847656,
          17.438016891479492,
          17.999183654785156,
          18.58075714111328,
          19.182735443115234,
          19.80512237548828,
          20.447914123535156,
          21.11111068725586,
          21.794713973999023,
          22.49872398376465,
          23.223140716552734,
          23.967960357666016,
          24.73318862915039,
          25.518823623657227,
          26.32486343383789,
          27.15131187438965,
          27.99816131591797,
          28.865421295166016,
          29.753084182739258,
          30.661155700683594,
          31.589630126953125,
          32.53851318359375,
          33.50780487060547,
          34.49749755859375,
          35.50760269165039,
          36.538108825683594,
          37.589019775390625,
          38.66033935546875,
          39.75206756591797,
          40.86419677734375,
          41.996734619140625,
          43.14967727661133,
          44.323028564453125,
          45.516780853271484,
          46.7309455871582,
          47.965511322021484,
          49.22048568725586,
          50.49586486816406,
          51.79165267944336,
          53.10784912109375,
          54.44444274902344,
          55.801448822021484,
          57.178855895996094,
          58.57667541503906,
          59.994895935058594,
          61.433528900146484,
          62.89255905151367,
          64.37200164794922,
          65.87184143066406,
          67.39210510253906,
          68.93275451660156,
          70.49382019042969,
          72.0752944946289,
          73.67716979980469,
          75.29945373535156,
          76.94214630126953,
          78.6052474975586,
          80.28874969482422,
          81.99264526367188,
          83.71696472167969,
          85.46168518066406,
          87.22681427001953,
          89.01233673095703,
          90.81827545166016,
          92.64462280273438,
          94.49137878417969,
          96.3585205078125,
          98.24609375,
          100.15406036376953,
          102.08244323730469,
          104.0312271118164,
          106.00039672851562,
          107.98999786376953,
          110
         ]
        }
       ],
       "layout": {}
      },
      "text/html": [
       "<div id=\"dcbbd225-2bca-49a6-80df-8dae6e9ba06e\" style=\"height: 525px; width: 100%;\" class=\"plotly-graph-div\"></div><script type=\"text/javascript\">require([\"plotly\"], function(Plotly) { window.PLOTLYENV=window.PLOTLYENV || {};window.PLOTLYENV.BASE_URL=\"https://plot.ly\";Plotly.newPlot(\"dcbbd225-2bca-49a6-80df-8dae6e9ba06e\", [{\"x\": [0.0, 0.10101009905338287, 0.20202019810676575, 0.3030303120613098, 0.4040403962135315, 0.5050504803657532, 0.6060606241226196, 0.7070707082748413, 0.808080792427063, 0.9090908765792847, 1.0101009607315063, 1.111111044883728, 1.2121212482452393, 1.313131332397461, 1.4141414165496826, 1.5151515007019043, 1.616161584854126, 1.7171716690063477, 1.8181817531585693, 1.919191837310791, 2.0202019214630127, 2.1212120056152344, 2.222222089767456, 2.3232321739196777, 2.4242424964904785, 2.5252525806427, 2.626262664794922, 2.7272727489471436, 2.8282828330993652, 2.929292917251587, 3.0303030014038086, 3.1313130855560303, 3.232323169708252, 3.3333332538604736, 3.4343433380126953, 3.535353422164917, 3.6363635063171387, 3.7373735904693604, 3.838383674621582, 3.9393937587738037, 4.040403842926025, 4.141414165496826, 4.242424011230469, 4.3434343338012695, 4.444444179534912, 4.545454502105713, 4.6464643478393555, 4.747474670410156, 4.848484992980957, 4.9494948387146, 5.0505051612854, 5.151515007019043, 5.252525329589844, 5.353535175323486, 5.454545497894287, 5.55555534362793, 5.6565656661987305, 5.757575511932373, 5.858585834503174, 5.959595680236816, 6.060606002807617, 6.16161584854126, 6.2626261711120605, 6.363636016845703, 6.464646339416504, 6.565656661987305, 6.666666507720947, 6.767676830291748, 6.868686676025391, 6.969696998596191, 7.070706844329834, 7.171717166900635, 7.272727012634277, 7.373737335205078, 7.474747180938721, 7.5757575035095215, 7.676767349243164, 7.777777671813965, 7.878787517547607, 7.979797840118408, 8.08080768585205, 8.181818008422852, 8.282828330993652, 8.383838653564453, 8.484848022460938, 8.585858345031738, 8.686868667602539, 8.78787899017334, 8.888888359069824, 8.989898681640625, 9.090909004211426, 9.191919326782227, 9.292928695678711, 9.393939018249512, 9.494949340820312, 9.595959663391113, 9.696969985961914, 9.797979354858398, 9.8989896774292, 10.0], \"y\": [10.0, 10.01020336151123, 10.040812492370605, 10.091827392578125, 10.163249015808105, 10.25507640838623, 10.3673095703125, 10.499948501586914, 10.652994155883789, 10.826446533203125, 11.020303726196289, 11.234567642211914, 11.46923828125, 11.724313735961914, 11.999795913696289, 12.295683860778809, 12.611978530883789, 12.948678970336914, 13.305785179138184, 13.683297157287598, 14.081215858459473, 14.499540328979492, 14.938270568847656, 15.397407531738281, 15.876951217651367, 16.37689971923828, 16.897254943847656, 17.438016891479492, 17.999183654785156, 18.58075714111328, 19.182735443115234, 19.80512237548828, 20.447914123535156, 21.11111068725586, 21.794713973999023, 22.49872398376465, 23.223140716552734, 23.967960357666016, 24.73318862915039, 25.518823623657227, 26.32486343383789, 27.15131187438965, 27.99816131591797, 28.865421295166016, 29.753084182739258, 30.661155700683594, 31.589630126953125, 32.53851318359375, 33.50780487060547, 34.49749755859375, 35.50760269165039, 36.538108825683594, 37.589019775390625, 38.66033935546875, 39.75206756591797, 40.86419677734375, 41.996734619140625, 43.14967727661133, 44.323028564453125, 45.516780853271484, 46.7309455871582, 47.965511322021484, 49.22048568725586, 50.49586486816406, 51.79165267944336, 53.10784912109375, 54.44444274902344, 55.801448822021484, 57.178855895996094, 58.57667541503906, 59.994895935058594, 61.433528900146484, 62.89255905151367, 64.37200164794922, 65.87184143066406, 67.39210510253906, 68.93275451660156, 70.49382019042969, 72.0752944946289, 73.67716979980469, 75.29945373535156, 76.94214630126953, 78.6052474975586, 80.28874969482422, 81.99264526367188, 83.71696472167969, 85.46168518066406, 87.22681427001953, 89.01233673095703, 90.81827545166016, 92.64462280273438, 94.49137878417969, 96.3585205078125, 98.24609375, 100.15406036376953, 102.08244323730469, 104.0312271118164, 106.00039672851562, 107.98999786376953, 110.0], \"type\": \"scatter\", \"uid\": \"926a3872-3bb4-4068-a171-8002c263c80b\"}], {}, {\"showLink\": true, \"linkText\": \"Export to plot.ly\", \"plotlyServerURL\": \"https://plot.ly\"})});</script><script type=\"text/javascript\">window.addEventListener(\"resize\", function(){window._Plotly.Plots.resize(document.getElementById(\"dcbbd225-2bca-49a6-80df-8dae6e9ba06e\"));});</script>"
      ],
      "text/vnd.plotly.v1+html": [
       "<div id=\"dcbbd225-2bca-49a6-80df-8dae6e9ba06e\" style=\"height: 525px; width: 100%;\" class=\"plotly-graph-div\"></div><script type=\"text/javascript\">require([\"plotly\"], function(Plotly) { window.PLOTLYENV=window.PLOTLYENV || {};window.PLOTLYENV.BASE_URL=\"https://plot.ly\";Plotly.newPlot(\"dcbbd225-2bca-49a6-80df-8dae6e9ba06e\", [{\"x\": [0.0, 0.10101009905338287, 0.20202019810676575, 0.3030303120613098, 0.4040403962135315, 0.5050504803657532, 0.6060606241226196, 0.7070707082748413, 0.808080792427063, 0.9090908765792847, 1.0101009607315063, 1.111111044883728, 1.2121212482452393, 1.313131332397461, 1.4141414165496826, 1.5151515007019043, 1.616161584854126, 1.7171716690063477, 1.8181817531585693, 1.919191837310791, 2.0202019214630127, 2.1212120056152344, 2.222222089767456, 2.3232321739196777, 2.4242424964904785, 2.5252525806427, 2.626262664794922, 2.7272727489471436, 2.8282828330993652, 2.929292917251587, 3.0303030014038086, 3.1313130855560303, 3.232323169708252, 3.3333332538604736, 3.4343433380126953, 3.535353422164917, 3.6363635063171387, 3.7373735904693604, 3.838383674621582, 3.9393937587738037, 4.040403842926025, 4.141414165496826, 4.242424011230469, 4.3434343338012695, 4.444444179534912, 4.545454502105713, 4.6464643478393555, 4.747474670410156, 4.848484992980957, 4.9494948387146, 5.0505051612854, 5.151515007019043, 5.252525329589844, 5.353535175323486, 5.454545497894287, 5.55555534362793, 5.6565656661987305, 5.757575511932373, 5.858585834503174, 5.959595680236816, 6.060606002807617, 6.16161584854126, 6.2626261711120605, 6.363636016845703, 6.464646339416504, 6.565656661987305, 6.666666507720947, 6.767676830291748, 6.868686676025391, 6.969696998596191, 7.070706844329834, 7.171717166900635, 7.272727012634277, 7.373737335205078, 7.474747180938721, 7.5757575035095215, 7.676767349243164, 7.777777671813965, 7.878787517547607, 7.979797840118408, 8.08080768585205, 8.181818008422852, 8.282828330993652, 8.383838653564453, 8.484848022460938, 8.585858345031738, 8.686868667602539, 8.78787899017334, 8.888888359069824, 8.989898681640625, 9.090909004211426, 9.191919326782227, 9.292928695678711, 9.393939018249512, 9.494949340820312, 9.595959663391113, 9.696969985961914, 9.797979354858398, 9.8989896774292, 10.0], \"y\": [10.0, 10.01020336151123, 10.040812492370605, 10.091827392578125, 10.163249015808105, 10.25507640838623, 10.3673095703125, 10.499948501586914, 10.652994155883789, 10.826446533203125, 11.020303726196289, 11.234567642211914, 11.46923828125, 11.724313735961914, 11.999795913696289, 12.295683860778809, 12.611978530883789, 12.948678970336914, 13.305785179138184, 13.683297157287598, 14.081215858459473, 14.499540328979492, 14.938270568847656, 15.397407531738281, 15.876951217651367, 16.37689971923828, 16.897254943847656, 17.438016891479492, 17.999183654785156, 18.58075714111328, 19.182735443115234, 19.80512237548828, 20.447914123535156, 21.11111068725586, 21.794713973999023, 22.49872398376465, 23.223140716552734, 23.967960357666016, 24.73318862915039, 25.518823623657227, 26.32486343383789, 27.15131187438965, 27.99816131591797, 28.865421295166016, 29.753084182739258, 30.661155700683594, 31.589630126953125, 32.53851318359375, 33.50780487060547, 34.49749755859375, 35.50760269165039, 36.538108825683594, 37.589019775390625, 38.66033935546875, 39.75206756591797, 40.86419677734375, 41.996734619140625, 43.14967727661133, 44.323028564453125, 45.516780853271484, 46.7309455871582, 47.965511322021484, 49.22048568725586, 50.49586486816406, 51.79165267944336, 53.10784912109375, 54.44444274902344, 55.801448822021484, 57.178855895996094, 58.57667541503906, 59.994895935058594, 61.433528900146484, 62.89255905151367, 64.37200164794922, 65.87184143066406, 67.39210510253906, 68.93275451660156, 70.49382019042969, 72.0752944946289, 73.67716979980469, 75.29945373535156, 76.94214630126953, 78.6052474975586, 80.28874969482422, 81.99264526367188, 83.71696472167969, 85.46168518066406, 87.22681427001953, 89.01233673095703, 90.81827545166016, 92.64462280273438, 94.49137878417969, 96.3585205078125, 98.24609375, 100.15406036376953, 102.08244323730469, 104.0312271118164, 106.00039672851562, 107.98999786376953, 110.0], \"type\": \"scatter\", \"uid\": \"926a3872-3bb4-4068-a171-8002c263c80b\"}], {}, {\"showLink\": true, \"linkText\": \"Export to plot.ly\", \"plotlyServerURL\": \"https://plot.ly\"})});</script><script type=\"text/javascript\">window.addEventListener(\"resize\", function(){window._Plotly.Plots.resize(document.getElementById(\"dcbbd225-2bca-49a6-80df-8dae6e9ba06e\"));});</script>"
      ]
     },
     "metadata": {},
     "output_type": "display_data"
    }
   ],
   "source": [
    "iplot(plot(x,y))"
   ]
  },
  {
   "cell_type": "code",
   "execution_count": null,
   "metadata": {},
   "outputs": [],
   "source": []
  }
 ],
 "metadata": {
  "kernelspec": {
   "display_name": "pytorch",
   "language": "python",
   "name": "pytorch"
  },
  "language_info": {
   "codemirror_mode": {
    "name": "ipython",
    "version": 3
   },
   "file_extension": ".py",
   "mimetype": "text/x-python",
   "name": "python",
   "nbconvert_exporter": "python",
   "pygments_lexer": "ipython3",
   "version": "3.7.1"
  }
 },
 "nbformat": 4,
 "nbformat_minor": 2
}
